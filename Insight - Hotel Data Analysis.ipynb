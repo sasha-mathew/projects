{
 "cells": [
  {
   "cell_type": "markdown",
   "id": "1d723e85",
   "metadata": {},
   "source": [
    "# DATA2001 Assignment 2 (Weight: 25%)\n"
   ]
  },
  {
   "cell_type": "markdown",
   "id": "d1aaa603",
   "metadata": {},
   "source": [
    "The aim of this assignment is to gain practical experience in analysing unstructured data. \n",
    "You should only submit your completed Jupyter notebook in .ipynb format via Blackboard, including written answers in markdown and results from executed code cells.\n",
    "\n",
    "\n",
    "The assignment comprises 5 main tasks: Data Exploration, Data Preprocessing, Model Training, Model Evaluation, and Model Analysis. You will analyze and compare two different representations, Bag of Words (BOW) and Term Frequency-Inverse Document Frequency (TF-IDF). Additionally, you will address and compare two tasks: sentiment analysis and rating prediction.\n",
    "\n",
    "\n",
    "The dataset you will work with in this assignment comprises text reviews about various hotels, extracted from Tripadvisor, along with their corresponding ratings.\n"
   ]
  },
  {
   "cell_type": "markdown",
   "id": "d693423b",
   "metadata": {},
   "source": [
    "## Task 1: Data Exploration\n"
   ]
  },
  {
   "cell_type": "markdown",
   "id": "562d2289",
   "metadata": {},
   "source": [
    "\n",
    "\n",
    "\n",
    "1. Load the dataset from the file \"hotel_reviews.csv\". How many records does the dataset contain? How many distinct classes are there in the dataset?\n"
   ]
  },
  {
   "cell_type": "code",
   "execution_count": 1,
   "id": "797f6daa",
   "metadata": {},
   "outputs": [],
   "source": [
    "import pandas as pd\n",
    "import warnings\n",
    "import numpy as np\n",
    "warnings.filterwarnings('ignore')"
   ]
  },
  {
   "cell_type": "code",
   "execution_count": 2,
   "id": "3c359a67",
   "metadata": {},
   "outputs": [
    {
     "data": {
      "text/plain": [
       "(20491, 2)"
      ]
     },
     "execution_count": 2,
     "metadata": {},
     "output_type": "execute_result"
    }
   ],
   "source": [
    "hotel_reviews = pd.read_csv(\"hotel_reviews.csv\")\n",
    "# How many records does the dataset contain\n",
    "hotel_reviews.shape"
   ]
  },
  {
   "cell_type": "markdown",
   "id": "3a3c90c3",
   "metadata": {},
   "source": [
    "There are 20491 rows and 2 columns."
   ]
  },
  {
   "cell_type": "code",
   "execution_count": 3,
   "id": "1ce9f295",
   "metadata": {},
   "outputs": [
    {
     "name": "stdout",
     "output_type": "stream",
     "text": [
      "<class 'pandas.core.frame.DataFrame'>\n",
      "RangeIndex: 20491 entries, 0 to 20490\n",
      "Data columns (total 2 columns):\n",
      " #   Column  Non-Null Count  Dtype \n",
      "---  ------  --------------  ----- \n",
      " 0   Review  20491 non-null  object\n",
      " 1   Rating  20491 non-null  int64 \n",
      "dtypes: int64(1), object(1)\n",
      "memory usage: 320.3+ KB\n"
     ]
    }
   ],
   "source": [
    "# concise summary of the dataset\n",
    "hotel_reviews.info()"
   ]
  },
  {
   "cell_type": "code",
   "execution_count": 4,
   "id": "8dd1348c",
   "metadata": {},
   "outputs": [
    {
     "data": {
      "text/html": [
       "<div>\n",
       "<style scoped>\n",
       "    .dataframe tbody tr th:only-of-type {\n",
       "        vertical-align: middle;\n",
       "    }\n",
       "\n",
       "    .dataframe tbody tr th {\n",
       "        vertical-align: top;\n",
       "    }\n",
       "\n",
       "    .dataframe thead th {\n",
       "        text-align: right;\n",
       "    }\n",
       "</style>\n",
       "<table border=\"1\" class=\"dataframe\">\n",
       "  <thead>\n",
       "    <tr style=\"text-align: right;\">\n",
       "      <th></th>\n",
       "      <th>Review</th>\n",
       "      <th>Rating</th>\n",
       "    </tr>\n",
       "  </thead>\n",
       "  <tbody>\n",
       "    <tr>\n",
       "      <th>0</th>\n",
       "      <td>nice hotel expensive parking got good deal sta...</td>\n",
       "      <td>4</td>\n",
       "    </tr>\n",
       "    <tr>\n",
       "      <th>1</th>\n",
       "      <td>ok nothing special charge diamond member hilto...</td>\n",
       "      <td>2</td>\n",
       "    </tr>\n",
       "    <tr>\n",
       "      <th>2</th>\n",
       "      <td>nice rooms not 4* experience hotel monaco seat...</td>\n",
       "      <td>3</td>\n",
       "    </tr>\n",
       "    <tr>\n",
       "      <th>3</th>\n",
       "      <td>unique, great stay, wonderful time hotel monac...</td>\n",
       "      <td>5</td>\n",
       "    </tr>\n",
       "    <tr>\n",
       "      <th>4</th>\n",
       "      <td>great stay great stay, went seahawk game aweso...</td>\n",
       "      <td>5</td>\n",
       "    </tr>\n",
       "  </tbody>\n",
       "</table>\n",
       "</div>"
      ],
      "text/plain": [
       "                                              Review  Rating\n",
       "0  nice hotel expensive parking got good deal sta...       4\n",
       "1  ok nothing special charge diamond member hilto...       2\n",
       "2  nice rooms not 4* experience hotel monaco seat...       3\n",
       "3  unique, great stay, wonderful time hotel monac...       5\n",
       "4  great stay great stay, went seahawk game aweso...       5"
      ]
     },
     "execution_count": 4,
     "metadata": {},
     "output_type": "execute_result"
    }
   ],
   "source": [
    "# Display first five rows of the data\n",
    "hotel_reviews.head()"
   ]
  },
  {
   "cell_type": "markdown",
   "id": "40ecae99",
   "metadata": {},
   "source": [
    "2. Determine the top 10 most frequently used words in the dataset. To support your answer, create a bar plot where the x-axis represents words, and the y-axis represents the frequency of each word appearing in the entire dataset.\n"
   ]
  },
  {
   "cell_type": "code",
   "execution_count": 5,
   "id": "1ebd7e32",
   "metadata": {},
   "outputs": [],
   "source": [
    "from collections import Counter\n",
    "import matplotlib.pyplot as plt\n",
    "import re"
   ]
  },
  {
   "cell_type": "code",
   "execution_count": 6,
   "id": "d8dce0fa",
   "metadata": {},
   "outputs": [
    {
     "data": {
      "text/plain": [
       "[('hotel', 49814),\n",
       " ('room', 35331),\n",
       " ('not', 31709),\n",
       " ('great', 21475),\n",
       " ('t', 19525),\n",
       " ('n', 19097),\n",
       " ('good', 17412),\n",
       " ('staff', 16633),\n",
       " ('stay', 15411),\n",
       " ('did', 14006)]"
      ]
     },
     "execution_count": 6,
     "metadata": {},
     "output_type": "execute_result"
    }
   ],
   "source": [
    "#combine all reviews into one text\n",
    "all_reviews = \" \".join(hotel_reviews[\"Review\"])\n",
    "\n",
    "#remove punctuation\n",
    "words = re.findall(r'\\b\\w+\\b', all_reviews.lower())\n",
    "\n",
    "#count the frequency of each word\n",
    "word_counts = Counter(words)\n",
    "\n",
    "#get the top 10 most frequent words\n",
    "top_words = word_counts.most_common(10)\n",
    "\n",
    "top_words"
   ]
  },
  {
   "cell_type": "code",
   "execution_count": 7,
   "id": "ef1452a9",
   "metadata": {},
   "outputs": [
    {
     "data": {
      "image/png": "[encoded data removed]",
      "text/plain": [
       "<Figure size 1200x600 with 1 Axes>"
      ]
     },
     "metadata": {},
     "output_type": "display_data"
    }
   ],
   "source": [
    "#extract the top words and their frequencies\n",
    "top_words, top_frequencies = zip(*top_words)\n",
    "\n",
    "#create bar plot\n",
    "plt.figure(figsize=(12, 6))\n",
    "plt.bar(top_words, top_frequencies, color='skyblue')\n",
    "plt.xlabel('Words')\n",
    "plt.ylabel('Frequency')\n",
    "plt.title('Top 10 Most Frequent Words in the Hotel Reviews')\n",
    "plt.xticks(rotation=45, ha='right')\n",
    "\n",
    "plt.tight_layout()\n",
    "plt.show()"
   ]
  },
  {
   "cell_type": "markdown",
   "id": "a493f07d",
   "metadata": {},
   "source": [
    "From the bar plot above, we can see which words are the most frequent in the reviews. However, it is evident that a few words are common stop words with no meaning, hence doesn't tell us a lot about the reviews."
   ]
  },
  {
   "cell_type": "markdown",
   "id": "b5d68460",
   "metadata": {},
   "source": [
    "\n",
    "\n",
    "3. Among the top 10 most frequently used words, identify if there are any stop words included. If we exclude the stop words, would the top 10 most frequent words change? Create another bar plot similar to Question 2, but this time with the stop words removed to illustrate the updated top 10 most frequent words."
   ]
  },
  {
   "cell_type": "code",
   "execution_count": 8,
   "id": "254d3813",
   "metadata": {},
   "outputs": [
    {
     "name": "stderr",
     "output_type": "stream",
     "text": [
      "[nltk_data] Downloading package stopwords to\n",
      "[nltk_data]     /home/s4773516/nltk_data...\n",
      "[nltk_data]   Package stopwords is already up-to-date!\n",
      "[nltk_data] Downloading package omw-1.4 to /home/s4773516/nltk_data...\n",
      "[nltk_data]   Package omw-1.4 is already up-to-date!\n",
      "[nltk_data] Downloading package wordnet to /home/s4773516/nltk_data...\n",
      "[nltk_data]   Package wordnet is already up-to-date!\n"
     ]
    },
    {
     "data": {
      "text/plain": [
       "True"
      ]
     },
     "execution_count": 8,
     "metadata": {},
     "output_type": "execute_result"
    }
   ],
   "source": [
    "from nltk.corpus import stopwords\n",
    "import nltk\n",
    "\n",
    "nltk.download('stopwords')\n",
    "nltk.download('omw-1.4')\n",
    "nltk.download('wordnet')\n"
   ]
  },
  {
   "cell_type": "code",
   "execution_count": 9,
   "id": "7c5679f5",
   "metadata": {},
   "outputs": [
    {
     "name": "stderr",
     "output_type": "stream",
     "text": [
      "[nltk_data] Downloading package stopwords to\n",
      "[nltk_data]     /home/s4773516/nltk_data...\n",
      "[nltk_data]   Package stopwords is already up-to-date!\n"
     ]
    },
    {
     "data": {
      "text/plain": [
       "[('hotel', 49814),\n",
       " ('room', 35331),\n",
       " ('great', 21475),\n",
       " ('n', 19097),\n",
       " ('good', 17412),\n",
       " ('staff', 16633),\n",
       " ('stay', 15411),\n",
       " ('nice', 12643),\n",
       " ('rooms', 12401),\n",
       " ('location', 11351)]"
      ]
     },
     "execution_count": 9,
     "metadata": {},
     "output_type": "execute_result"
    }
   ],
   "source": [
    "#combine all reviews into one text\n",
    "all_reviews = \" \".join(hotel_reviews[\"Review\"])\n",
    "\n",
    "# Tokenize the text and remove stopwords and punctuation\n",
    "nltk.download(\"stopwords\")\n",
    "stop_words = set(stopwords.words(\"english\"))\n",
    "words = re.findall(r'\\b\\w+\\b', all_reviews.lower())\n",
    "filtered_words = [word for word in words if word not in stop_words]\n",
    "\n",
    "#count the frequency of each word\n",
    "word_counts = Counter(filtered_words)\n",
    "\n",
    "#get the top 10 most frequent words\n",
    "top_words = word_counts.most_common(10)\n",
    "\n",
    "top_words\n",
    "\n"
   ]
  },
  {
   "cell_type": "code",
   "execution_count": 10,
   "id": "d0ebf2a4",
   "metadata": {},
   "outputs": [
    {
     "data": {
      "image/png": "[encoded data removed]",
      "text/plain": [
       "<Figure size 1200x600 with 1 Axes>"
      ]
     },
     "metadata": {},
     "output_type": "display_data"
    }
   ],
   "source": [
    "#extract the top words and their frequencies\n",
    "top_words, top_frequencies = zip(*top_words)\n",
    "\n",
    "#create bar plot\n",
    "plt.figure(figsize=(12, 6))\n",
    "plt.bar(top_words, top_frequencies, color='skyblue')\n",
    "plt.xlabel('Words')\n",
    "plt.ylabel('Frequency')\n",
    "plt.title('Top 10 Most Frequent Words in the Hotel Reviews')\n",
    "plt.xticks(rotation=45, ha='right')\n",
    "\n",
    "plt.tight_layout()\n",
    "plt.show()"
   ]
  },
  {
   "cell_type": "markdown",
   "id": "40394fba",
   "metadata": {},
   "source": [
    "We can see that the stopwords have been removed and so now the most common words in reviews give an indication of what works well for them."
   ]
  },
  {
   "cell_type": "markdown",
   "id": "c66c6232",
   "metadata": {},
   "source": [
    "## Task 2: Data Preprocessing\n",
    "\n",
    "- Use the provided \"clean_data\" function to remove unnecessary symbols and clean the dataset.\n",
    "\n"
   ]
  },
  {
   "cell_type": "code",
   "execution_count": 11,
   "id": "18e84d29",
   "metadata": {},
   "outputs": [],
   "source": [
    "import re\n",
    "\n",
    "def clean_data(text):\n",
    "    \n",
    "    # Format words and remove unwanted characters\n",
    "    text = re.sub(r'https?:\\/\\/.*[\\r\\n]*', '', text, flags=re.MULTILINE)\n",
    "    text = re.sub(r'\\<a href', ' ', text)\n",
    "    text = re.sub(r'&amp;', '', text) \n",
    "    text = re.sub(r'[_\"\\-;%()|+&=*%.,!?:#$@\\[\\]/]', ' ', text)\n",
    "    text = re.sub(r'<br />', ' ', text)\n",
    "    text = re.sub(r'br', ' ', text)\n",
    "    text = re.sub(r'\\'', ' ', text)\n",
    "    \n",
    "\n",
    "    return text"
   ]
  },
  {
   "cell_type": "code",
   "execution_count": 12,
   "id": "5311b4cd",
   "metadata": {},
   "outputs": [],
   "source": [
    "hotel_reviews[\"Review\"] = hotel_reviews[\"Review\"].apply(clean_data)\n"
   ]
  },
  {
   "cell_type": "code",
   "execution_count": 13,
   "id": "16216776",
   "metadata": {},
   "outputs": [
    {
     "data": {
      "text/plain": [
       "'nice rooms not 4  experience hotel monaco seattle good hotel n t 4  level positives large bathroom mediterranean suite comfortable bed pillowsattentive housekeeping staffnegatives ac unit malfunctioned stay desk disorganized  missed 3 separate wakeup calls  concierge busy hard touch  did n t provide guidance special requests tv hard use ipod sound dock suite non functioning  decided book mediterranean suite 3 night weekend stay 1st choice rest party filled  comparison w spent 45 night larger square footage room great soaking tub whirlpool jets nice shower before stay hotel arrange car service price 53 tip reasonable driver waiting arrival checkin easy downside room picked 2 person jacuzi tub no bath accessories salts bubble bath did n t stay  night got 12 1a checked voucher bottle champagne nice gesture fish waiting room  impression room huge open space felt room big  tv far away bed chore change channel  ipod dock  oken disappointing in morning way asked desk check thermostat said 65f 74 2 degrees warm try cover face night  ight blue light kept  got room night no  1st drop desk  called maintainence came look thermostat told play settings happy digital box wo n t work  asked wakeup 10am morning did n t happen  called later 6pm nap wakeup forgot  10am wakeup morning yep forgotten the bathroom facilities great room surprised room sold whirlpool bath tub n t bath amenities  great relax water jets going   '"
      ]
     },
     "execution_count": 13,
     "metadata": {},
     "output_type": "execute_result"
    }
   ],
   "source": [
    "#check to see if it is now clean\n",
    "hotel_reviews.loc[2, \"Review\"]"
   ]
  },
  {
   "cell_type": "markdown",
   "id": "cee99380",
   "metadata": {},
   "source": [
    "We can see that the function has worked as there is no punctuation or unwanted characters"
   ]
  },
  {
   "cell_type": "markdown",
   "id": "5334f4bc",
   "metadata": {},
   "source": [
    "- Split the clean dataset into separate train and test sets. For this, use the \"Review\" field as the feature vector (X) and the \"Rating\" field as the label vector (Y)."
   ]
  },
  {
   "cell_type": "code",
   "execution_count": 14,
   "id": "e2b74af8",
   "metadata": {},
   "outputs": [],
   "source": [
    "from sklearn.model_selection import train_test_split\n",
    "random_state = np.random.RandomState(0)"
   ]
  },
  {
   "cell_type": "code",
   "execution_count": 15,
   "id": "f21e0206",
   "metadata": {},
   "outputs": [],
   "source": [
    "X = hotel_reviews[\"Review\"]\n",
    "y = hotel_reviews[\"Rating\"]\n",
    "\n",
    "# split the data into train-test split where 30% of data will be used as test set\n",
    "X_train, X_test, y_train, y_test = train_test_split(X, y, test_size=0.3, shuffle=True, random_state=random_state)"
   ]
  },
  {
   "cell_type": "markdown",
   "id": "f5cb5069",
   "metadata": {},
   "source": [
    "- Create an additional binary label by assigning ‘1’ – positive for the product ratings 4 and 5; and \"–1\" for product ratings 1, 2 and 3. Store it in y_train_binary and y_test_binary. \n",
    "\n",
    "*Tip: you can use a function copy.deepcopy for creating a copy of label variables*"
   ]
  },
  {
   "cell_type": "code",
   "execution_count": 16,
   "id": "ea7fe3f2",
   "metadata": {},
   "outputs": [],
   "source": [
    "import copy"
   ]
  },
  {
   "cell_type": "code",
   "execution_count": 17,
   "id": "a1c3f189",
   "metadata": {},
   "outputs": [],
   "source": [
    "def convert_to_binary_label(rating):\n",
    "    if rating >= 4:\n",
    "        return 1  # Positive\n",
    "    else:\n",
    "        return -1  # Not Positive\n",
    "    \n",
    "# Create binary labels for y_train and y_test\n",
    "y_train_binary = y_train.apply(convert_to_binary_label)\n",
    "y_test_binary = y_test.apply(convert_to_binary_label)"
   ]
  },
  {
   "cell_type": "markdown",
   "id": "41f40611",
   "metadata": {},
   "source": [
    "\n",
    "- Transform the cleaned data into a numerical representation using Bag of Words (BoW) and remove any stop words. Save the BoW representation in the variables train_data_BOW and test_data_BOW."
   ]
  },
  {
   "cell_type": "code",
   "execution_count": 18,
   "id": "a452febc",
   "metadata": {},
   "outputs": [],
   "source": [
    "from sklearn.feature_extraction.text import CountVectorizer\n",
    "\n",
    "vectorizer = CountVectorizer(stop_words=stopwords.words('english'), min_df=0.01)\n",
    "# fit the vectorizer to fit train data\n",
    "train_data_BOW = vectorizer.fit_transform(X_train)\n",
    "# get the BOW for train data\n",
    "X_train_BOW = vectorizer.transform(X_train)\n"
   ]
  },
  {
   "cell_type": "markdown",
   "id": "8090e881",
   "metadata": {},
   "source": [
    "- Create another numerical representation of the text using Term Frequency-Inverse Document Frequency (TfIdf) and remove the stop words. Save the TfIdf representation in the variables train_data_tfidf and test_data_tfidf."
   ]
  },
  {
   "cell_type": "code",
   "execution_count": 19,
   "id": "f63802c3",
   "metadata": {},
   "outputs": [],
   "source": [
    "from sklearn.feature_extraction.text import TfidfVectorizer\n",
    "\n",
    "tfidf_vectorizer = TfidfVectorizer(stop_words=stopwords.words('english'))\n",
    "# fit the TFIDF vectorizer to fit train data\n",
    "train_data_tfidf = tfidf_vectorizer.fit_transform(X_train)\n",
    "# get the BOW for train data\n",
    "test_data_tfidf = tfidf_vectorizer.transform(X_test)\n"
   ]
  },
  {
   "cell_type": "markdown",
   "id": "c3441fac",
   "metadata": {},
   "source": [
    "## Task 3: Model Training\n",
    "\n",
    "Define 3 Logistic Regression models: *model1, model2* and *model3* and train the models as follows:\n",
    "- Train the first Logistic Regression model using the Bag of Words representation (train_data_BOW) to predict the hotel rating (Y).\n",
    "\n",
    "- Train the second Logistic Regression model using the TfIdf representation (train_data_tfidf) to predict the hotel rating (Y).\n",
    "\n",
    "- Train the third Logistic Regression model using the TfIdf representation (train_data_tfidf) to predict the binary sentiment label (Y_binary). \n",
    "\n",
    "- Make and store predictions on appropriate test sets (X_test_BOW for model1 and X_test_tfidf for model2 and model3)"
   ]
  },
  {
   "cell_type": "code",
   "execution_count": 20,
   "id": "af6007d5",
   "metadata": {},
   "outputs": [
    {
     "data": {
      "text/html": [
       "<style>#sk-container-id-1 {color: black;}#sk-container-id-1 pre{padding: 0;}#sk-container-id-1 div.sk-toggleable {background-color: white;}#sk-container-id-1 label.sk-toggleable__label {cursor: pointer;display: block;width: 100%;margin-bottom: 0;padding: 0.3em;box-sizing: border-box;text-align: center;}#sk-container-id-1 label.sk-toggleable__label-arrow:before {content: \"▸\";float: left;margin-right: 0.25em;color: #696969;}#sk-container-id-1 label.sk-toggleable__label-arrow:hover:before {color: black;}#sk-container-id-1 div.sk-estimator:hover label.sk-toggleable__label-arrow:before {color: black;}#sk-container-id-1 div.sk-toggleable__content {max-height: 0;max-width: 0;overflow: hidden;text-align: left;background-color: #f0f8ff;}#sk-container-id-1 div.sk-toggleable__content pre {margin: 0.2em;color: black;border-radius: 0.25em;background-color: #f0f8ff;}#sk-container-id-1 input.sk-toggleable__control:checked~div.sk-toggleable__content {max-height: 200px;max-width: 100%;overflow: auto;}#sk-container-id-1 input.sk-toggleable__control:checked~label.sk-toggleable__label-arrow:before {content: \"▾\";}#sk-container-id-1 div.sk-estimator input.sk-toggleable__control:checked~label.sk-toggleable__label {background-color: #d4ebff;}#sk-container-id-1 div.sk-label input.sk-toggleable__control:checked~label.sk-toggleable__label {background-color: #d4ebff;}#sk-container-id-1 input.sk-hidden--visually {border: 0;clip: rect(1px 1px 1px 1px);clip: rect(1px, 1px, 1px, 1px);height: 1px;margin: -1px;overflow: hidden;padding: 0;position: absolute;width: 1px;}#sk-container-id-1 div.sk-estimator {font-family: monospace;background-color: #f0f8ff;border: 1px dotted black;border-radius: 0.25em;box-sizing: border-box;margin-bottom: 0.5em;}#sk-container-id-1 div.sk-estimator:hover {background-color: #d4ebff;}#sk-container-id-1 div.sk-parallel-item::after {content: \"\";width: 100%;border-bottom: 1px solid gray;flex-grow: 1;}#sk-container-id-1 div.sk-label:hover label.sk-toggleable__label {background-color: #d4ebff;}#sk-container-id-1 div.sk-serial::before {content: \"\";position: absolute;border-left: 1px solid gray;box-sizing: border-box;top: 0;bottom: 0;left: 50%;z-index: 0;}#sk-container-id-1 div.sk-serial {display: flex;flex-direction: column;align-items: center;background-color: white;padding-right: 0.2em;padding-left: 0.2em;position: relative;}#sk-container-id-1 div.sk-item {position: relative;z-index: 1;}#sk-container-id-1 div.sk-parallel {display: flex;align-items: stretch;justify-content: center;background-color: white;position: relative;}#sk-container-id-1 div.sk-item::before, #sk-container-id-1 div.sk-parallel-item::before {content: \"\";position: absolute;border-left: 1px solid gray;box-sizing: border-box;top: 0;bottom: 0;left: 50%;z-index: -1;}#sk-container-id-1 div.sk-parallel-item {display: flex;flex-direction: column;z-index: 1;position: relative;background-color: white;}#sk-container-id-1 div.sk-parallel-item:first-child::after {align-self: flex-end;width: 50%;}#sk-container-id-1 div.sk-parallel-item:last-child::after {align-self: flex-start;width: 50%;}#sk-container-id-1 div.sk-parallel-item:only-child::after {width: 0;}#sk-container-id-1 div.sk-dashed-wrapped {border: 1px dashed gray;margin: 0 0.4em 0.5em 0.4em;box-sizing: border-box;padding-bottom: 0.4em;background-color: white;}#sk-container-id-1 div.sk-label label {font-family: monospace;font-weight: bold;display: inline-block;line-height: 1.2em;}#sk-container-id-1 div.sk-label-container {text-align: center;}#sk-container-id-1 div.sk-container {/* jupyter's `normalize.less` sets `[hidden] { display: none; }` but bootstrap.min.css set `[hidden] { display: none !important; }` so we also need the `!important` here to be able to override the default hidden behavior on the sphinx rendered scikit-learn.org. See: https://github.com/scikit-learn/scikit-learn/issues/21755 */display: inline-block !important;position: relative;}#sk-container-id-1 div.sk-text-repr-fallback {display: none;}</style><div id=\"sk-container-id-1\" class=\"sk-top-container\"><div class=\"sk-text-repr-fallback\"><pre>LogisticRegression(random_state=RandomState(MT19937) at 0x7FFF8CE7DF40)</pre><b>In a Jupyter environment, please rerun this cell to show the HTML representation or trust the notebook. <br />On GitHub, the HTML representation is unable to render, please try loading this page with nbviewer.org.</b></div><div class=\"sk-container\" hidden><div class=\"sk-item\"><div class=\"sk-estimator sk-toggleable\"><input class=\"sk-toggleable__control sk-hidden--visually\" id=\"sk-estimator-id-1\" type=\"checkbox\" checked><label for=\"sk-estimator-id-1\" class=\"sk-toggleable__label sk-toggleable__label-arrow\">LogisticRegression</label><div class=\"sk-toggleable__content\"><pre>LogisticRegression(random_state=RandomState(MT19937) at 0x7FFF8CE7DF40)</pre></div></div></div></div></div>"
      ],
      "text/plain": [
       "LogisticRegression(random_state=RandomState(MT19937) at 0x7FFF8CE7DF40)"
      ]
     },
     "execution_count": 20,
     "metadata": {},
     "output_type": "execute_result"
    }
   ],
   "source": [
    "from sklearn.linear_model import LogisticRegression\n",
    "\n",
    "model1 = LogisticRegression(random_state=random_state)\n",
    "model1.fit(X_train_BOW,y_train)\n"
   ]
  },
  {
   "cell_type": "code",
   "execution_count": 21,
   "id": "63727ea6",
   "metadata": {},
   "outputs": [
    {
     "data": {
      "text/plain": [
       "array([2, 1, 5, ..., 5, 4, 5])"
      ]
     },
     "execution_count": 21,
     "metadata": {},
     "output_type": "execute_result"
    }
   ],
   "source": [
    "# create BOW for test data\n",
    "X_test_BOW = vectorizer.transform(X_test)\n",
    "\n",
    "# predict using log_reg object\n",
    "y_test_model1_predictions = model1.predict(X_test_BOW)\n",
    "\n",
    "# view the predictions\n",
    "y_test_model1_predictions"
   ]
  },
  {
   "cell_type": "markdown",
   "id": "36869d82",
   "metadata": {},
   "source": [
    "The predictions may not be accurate so we will evaluate the model later on."
   ]
  },
  {
   "cell_type": "code",
   "execution_count": 22,
   "id": "71be73b5",
   "metadata": {},
   "outputs": [
    {
     "data": {
      "text/html": [
       "<style>#sk-container-id-2 {color: black;}#sk-container-id-2 pre{padding: 0;}#sk-container-id-2 div.sk-toggleable {background-color: white;}#sk-container-id-2 label.sk-toggleable__label {cursor: pointer;display: block;width: 100%;margin-bottom: 0;padding: 0.3em;box-sizing: border-box;text-align: center;}#sk-container-id-2 label.sk-toggleable__label-arrow:before {content: \"▸\";float: left;margin-right: 0.25em;color: #696969;}#sk-container-id-2 label.sk-toggleable__label-arrow:hover:before {color: black;}#sk-container-id-2 div.sk-estimator:hover label.sk-toggleable__label-arrow:before {color: black;}#sk-container-id-2 div.sk-toggleable__content {max-height: 0;max-width: 0;overflow: hidden;text-align: left;background-color: #f0f8ff;}#sk-container-id-2 div.sk-toggleable__content pre {margin: 0.2em;color: black;border-radius: 0.25em;background-color: #f0f8ff;}#sk-container-id-2 input.sk-toggleable__control:checked~div.sk-toggleable__content {max-height: 200px;max-width: 100%;overflow: auto;}#sk-container-id-2 input.sk-toggleable__control:checked~label.sk-toggleable__label-arrow:before {content: \"▾\";}#sk-container-id-2 div.sk-estimator input.sk-toggleable__control:checked~label.sk-toggleable__label {background-color: #d4ebff;}#sk-container-id-2 div.sk-label input.sk-toggleable__control:checked~label.sk-toggleable__label {background-color: #d4ebff;}#sk-container-id-2 input.sk-hidden--visually {border: 0;clip: rect(1px 1px 1px 1px);clip: rect(1px, 1px, 1px, 1px);height: 1px;margin: -1px;overflow: hidden;padding: 0;position: absolute;width: 1px;}#sk-container-id-2 div.sk-estimator {font-family: monospace;background-color: #f0f8ff;border: 1px dotted black;border-radius: 0.25em;box-sizing: border-box;margin-bottom: 0.5em;}#sk-container-id-2 div.sk-estimator:hover {background-color: #d4ebff;}#sk-container-id-2 div.sk-parallel-item::after {content: \"\";width: 100%;border-bottom: 1px solid gray;flex-grow: 1;}#sk-container-id-2 div.sk-label:hover label.sk-toggleable__label {background-color: #d4ebff;}#sk-container-id-2 div.sk-serial::before {content: \"\";position: absolute;border-left: 1px solid gray;box-sizing: border-box;top: 0;bottom: 0;left: 50%;z-index: 0;}#sk-container-id-2 div.sk-serial {display: flex;flex-direction: column;align-items: center;background-color: white;padding-right: 0.2em;padding-left: 0.2em;position: relative;}#sk-container-id-2 div.sk-item {position: relative;z-index: 1;}#sk-container-id-2 div.sk-parallel {display: flex;align-items: stretch;justify-content: center;background-color: white;position: relative;}#sk-container-id-2 div.sk-item::before, #sk-container-id-2 div.sk-parallel-item::before {content: \"\";position: absolute;border-left: 1px solid gray;box-sizing: border-box;top: 0;bottom: 0;left: 50%;z-index: -1;}#sk-container-id-2 div.sk-parallel-item {display: flex;flex-direction: column;z-index: 1;position: relative;background-color: white;}#sk-container-id-2 div.sk-parallel-item:first-child::after {align-self: flex-end;width: 50%;}#sk-container-id-2 div.sk-parallel-item:last-child::after {align-self: flex-start;width: 50%;}#sk-container-id-2 div.sk-parallel-item:only-child::after {width: 0;}#sk-container-id-2 div.sk-dashed-wrapped {border: 1px dashed gray;margin: 0 0.4em 0.5em 0.4em;box-sizing: border-box;padding-bottom: 0.4em;background-color: white;}#sk-container-id-2 div.sk-label label {font-family: monospace;font-weight: bold;display: inline-block;line-height: 1.2em;}#sk-container-id-2 div.sk-label-container {text-align: center;}#sk-container-id-2 div.sk-container {/* jupyter's `normalize.less` sets `[hidden] { display: none; }` but bootstrap.min.css set `[hidden] { display: none !important; }` so we also need the `!important` here to be able to override the default hidden behavior on the sphinx rendered scikit-learn.org. See: https://github.com/scikit-learn/scikit-learn/issues/21755 */display: inline-block !important;position: relative;}#sk-container-id-2 div.sk-text-repr-fallback {display: none;}</style><div id=\"sk-container-id-2\" class=\"sk-top-container\"><div class=\"sk-text-repr-fallback\"><pre>LogisticRegression(random_state=RandomState(MT19937) at 0x7FFF8CE7DF40)</pre><b>In a Jupyter environment, please rerun this cell to show the HTML representation or trust the notebook. <br />On GitHub, the HTML representation is unable to render, please try loading this page with nbviewer.org.</b></div><div class=\"sk-container\" hidden><div class=\"sk-item\"><div class=\"sk-estimator sk-toggleable\"><input class=\"sk-toggleable__control sk-hidden--visually\" id=\"sk-estimator-id-2\" type=\"checkbox\" checked><label for=\"sk-estimator-id-2\" class=\"sk-toggleable__label sk-toggleable__label-arrow\">LogisticRegression</label><div class=\"sk-toggleable__content\"><pre>LogisticRegression(random_state=RandomState(MT19937) at 0x7FFF8CE7DF40)</pre></div></div></div></div></div>"
      ],
      "text/plain": [
       "LogisticRegression(random_state=RandomState(MT19937) at 0x7FFF8CE7DF40)"
      ]
     },
     "execution_count": 22,
     "metadata": {},
     "output_type": "execute_result"
    }
   ],
   "source": [
    "model2 = LogisticRegression(random_state=random_state)  # You can adjust max_iter as needed\n",
    "model2.fit(train_data_tfidf, y_train)  # Use Y_train here"
   ]
  },
  {
   "cell_type": "code",
   "execution_count": 23,
   "id": "1773c0d6",
   "metadata": {},
   "outputs": [
    {
     "data": {
      "text/plain": [
       "array([2, 4, 5, ..., 5, 5, 5])"
      ]
     },
     "execution_count": 23,
     "metadata": {},
     "output_type": "execute_result"
    }
   ],
   "source": [
    "y_test_model2_predictions = model2.predict(test_data_tfidf)\n",
    "\n",
    "# View the predictions\n",
    "y_test_model2_predictions"
   ]
  },
  {
   "cell_type": "markdown",
   "id": "d929f3d4",
   "metadata": {},
   "source": [
    "We can see that the predictions vary slightly from model 1's predictions, so we still do not know about the accuracy, therefore we will evaluate the model later on."
   ]
  },
  {
   "cell_type": "code",
   "execution_count": 24,
   "id": "8299f113",
   "metadata": {},
   "outputs": [
    {
     "data": {
      "text/html": [
       "<style>#sk-container-id-3 {color: black;}#sk-container-id-3 pre{padding: 0;}#sk-container-id-3 div.sk-toggleable {background-color: white;}#sk-container-id-3 label.sk-toggleable__label {cursor: pointer;display: block;width: 100%;margin-bottom: 0;padding: 0.3em;box-sizing: border-box;text-align: center;}#sk-container-id-3 label.sk-toggleable__label-arrow:before {content: \"▸\";float: left;margin-right: 0.25em;color: #696969;}#sk-container-id-3 label.sk-toggleable__label-arrow:hover:before {color: black;}#sk-container-id-3 div.sk-estimator:hover label.sk-toggleable__label-arrow:before {color: black;}#sk-container-id-3 div.sk-toggleable__content {max-height: 0;max-width: 0;overflow: hidden;text-align: left;background-color: #f0f8ff;}#sk-container-id-3 div.sk-toggleable__content pre {margin: 0.2em;color: black;border-radius: 0.25em;background-color: #f0f8ff;}#sk-container-id-3 input.sk-toggleable__control:checked~div.sk-toggleable__content {max-height: 200px;max-width: 100%;overflow: auto;}#sk-container-id-3 input.sk-toggleable__control:checked~label.sk-toggleable__label-arrow:before {content: \"▾\";}#sk-container-id-3 div.sk-estimator input.sk-toggleable__control:checked~label.sk-toggleable__label {background-color: #d4ebff;}#sk-container-id-3 div.sk-label input.sk-toggleable__control:checked~label.sk-toggleable__label {background-color: #d4ebff;}#sk-container-id-3 input.sk-hidden--visually {border: 0;clip: rect(1px 1px 1px 1px);clip: rect(1px, 1px, 1px, 1px);height: 1px;margin: -1px;overflow: hidden;padding: 0;position: absolute;width: 1px;}#sk-container-id-3 div.sk-estimator {font-family: monospace;background-color: #f0f8ff;border: 1px dotted black;border-radius: 0.25em;box-sizing: border-box;margin-bottom: 0.5em;}#sk-container-id-3 div.sk-estimator:hover {background-color: #d4ebff;}#sk-container-id-3 div.sk-parallel-item::after {content: \"\";width: 100%;border-bottom: 1px solid gray;flex-grow: 1;}#sk-container-id-3 div.sk-label:hover label.sk-toggleable__label {background-color: #d4ebff;}#sk-container-id-3 div.sk-serial::before {content: \"\";position: absolute;border-left: 1px solid gray;box-sizing: border-box;top: 0;bottom: 0;left: 50%;z-index: 0;}#sk-container-id-3 div.sk-serial {display: flex;flex-direction: column;align-items: center;background-color: white;padding-right: 0.2em;padding-left: 0.2em;position: relative;}#sk-container-id-3 div.sk-item {position: relative;z-index: 1;}#sk-container-id-3 div.sk-parallel {display: flex;align-items: stretch;justify-content: center;background-color: white;position: relative;}#sk-container-id-3 div.sk-item::before, #sk-container-id-3 div.sk-parallel-item::before {content: \"\";position: absolute;border-left: 1px solid gray;box-sizing: border-box;top: 0;bottom: 0;left: 50%;z-index: -1;}#sk-container-id-3 div.sk-parallel-item {display: flex;flex-direction: column;z-index: 1;position: relative;background-color: white;}#sk-container-id-3 div.sk-parallel-item:first-child::after {align-self: flex-end;width: 50%;}#sk-container-id-3 div.sk-parallel-item:last-child::after {align-self: flex-start;width: 50%;}#sk-container-id-3 div.sk-parallel-item:only-child::after {width: 0;}#sk-container-id-3 div.sk-dashed-wrapped {border: 1px dashed gray;margin: 0 0.4em 0.5em 0.4em;box-sizing: border-box;padding-bottom: 0.4em;background-color: white;}#sk-container-id-3 div.sk-label label {font-family: monospace;font-weight: bold;display: inline-block;line-height: 1.2em;}#sk-container-id-3 div.sk-label-container {text-align: center;}#sk-container-id-3 div.sk-container {/* jupyter's `normalize.less` sets `[hidden] { display: none; }` but bootstrap.min.css set `[hidden] { display: none !important; }` so we also need the `!important` here to be able to override the default hidden behavior on the sphinx rendered scikit-learn.org. See: https://github.com/scikit-learn/scikit-learn/issues/21755 */display: inline-block !important;position: relative;}#sk-container-id-3 div.sk-text-repr-fallback {display: none;}</style><div id=\"sk-container-id-3\" class=\"sk-top-container\"><div class=\"sk-text-repr-fallback\"><pre>LogisticRegression(random_state=RandomState(MT19937) at 0x7FFF8CE7DF40)</pre><b>In a Jupyter environment, please rerun this cell to show the HTML representation or trust the notebook. <br />On GitHub, the HTML representation is unable to render, please try loading this page with nbviewer.org.</b></div><div class=\"sk-container\" hidden><div class=\"sk-item\"><div class=\"sk-estimator sk-toggleable\"><input class=\"sk-toggleable__control sk-hidden--visually\" id=\"sk-estimator-id-3\" type=\"checkbox\" checked><label for=\"sk-estimator-id-3\" class=\"sk-toggleable__label sk-toggleable__label-arrow\">LogisticRegression</label><div class=\"sk-toggleable__content\"><pre>LogisticRegression(random_state=RandomState(MT19937) at 0x7FFF8CE7DF40)</pre></div></div></div></div></div>"
      ],
      "text/plain": [
       "LogisticRegression(random_state=RandomState(MT19937) at 0x7FFF8CE7DF40)"
      ]
     },
     "execution_count": 24,
     "metadata": {},
     "output_type": "execute_result"
    }
   ],
   "source": [
    "model3 = LogisticRegression(random_state=random_state)  # You can adjust max_iter as needed\n",
    "model3.fit(train_data_tfidf, y_train_binary)"
   ]
  },
  {
   "cell_type": "code",
   "execution_count": 25,
   "id": "8f0afc1e",
   "metadata": {},
   "outputs": [
    {
     "data": {
      "text/plain": [
       "array([-1, -1,  1, ...,  1,  1,  1])"
      ]
     },
     "execution_count": 25,
     "metadata": {},
     "output_type": "execute_result"
    }
   ],
   "source": [
    "y_test_model3_predictions = model3.predict(test_data_tfidf)\n",
    "\n",
    "# View the predictions\n",
    "y_test_model3_predictions"
   ]
  },
  {
   "cell_type": "markdown",
   "id": "a419742a",
   "metadata": {},
   "source": [
    "In this binary model, -1 represents a negative sentiment, while 1 represents a positive sentiment. These sentiments tend to agree with the model 1 results, however again we do not know if it is accurate, so we will conduct further evaluation."
   ]
  },
  {
   "cell_type": "markdown",
   "id": "9f37e686",
   "metadata": {},
   "source": [
    "\n",
    "## Task 4: Model Evaluation\n",
    "\n",
    "- Compute and compare the test accuracy of Model 1 (Logistic Regression with BoW representation) and Model 2 (Logistic Regression with TfIdf representation). Based on your results, determine which embedding method yields higher performance in predicting the hotel ratings (Y)."
   ]
  },
  {
   "cell_type": "code",
   "execution_count": 26,
   "id": "09217a19",
   "metadata": {},
   "outputs": [
    {
     "data": {
      "text/plain": [
       "0.5655497722836695"
      ]
     },
     "execution_count": 26,
     "metadata": {},
     "output_type": "execute_result"
    }
   ],
   "source": [
    "from sklearn.metrics import accuracy_score\n",
    "\n",
    "accuracy_model1 = accuracy_score(y_test, y_test_model1_predictions)\n",
    "accuracy_model1"
   ]
  },
  {
   "cell_type": "code",
   "execution_count": 27,
   "id": "2fa3c005",
   "metadata": {},
   "outputs": [
    {
     "data": {
      "text/plain": [
       "0.6099544567338973"
      ]
     },
     "execution_count": 27,
     "metadata": {},
     "output_type": "execute_result"
    }
   ],
   "source": [
    "accuracy_model2 = accuracy_score(y_test, y_test_model2_predictions)\n",
    "accuracy_model2"
   ]
  },
  {
   "cell_type": "markdown",
   "id": "35ae0f33",
   "metadata": {},
   "source": [
    "From the results above, it is clear that Model 2 has a higher accuracy than Model 1, although the difference is not very large. Model 1 has an accuracy of approximately 56.6% and Model 2 has an accuracy of approximately 61%. Thus, Model 2 is more accurate than Model 1."
   ]
  },
  {
   "cell_type": "markdown",
   "id": "78c38179",
   "metadata": {},
   "source": [
    "- Compute and compare the test accuracy of Model 2 and Model 3. Based on your results, analyze which task is easier: binary sentiment prediction or multi-class rating prediction."
   ]
  },
  {
   "cell_type": "code",
   "execution_count": 28,
   "id": "e72c0069",
   "metadata": {},
   "outputs": [
    {
     "data": {
      "text/plain": [
       "0.6099544567338973"
      ]
     },
     "execution_count": 28,
     "metadata": {},
     "output_type": "execute_result"
    }
   ],
   "source": [
    "accuracy_model2 = accuracy_score(y_test, y_test_model2_predictions)\n",
    "accuracy_model2"
   ]
  },
  {
   "cell_type": "code",
   "execution_count": 29,
   "id": "a383feec",
   "metadata": {},
   "outputs": [
    {
     "data": {
      "text/plain": [
       "0.8919973975276513"
      ]
     },
     "execution_count": 29,
     "metadata": {},
     "output_type": "execute_result"
    }
   ],
   "source": [
    "accuracy_model3 = accuracy_score(y_test_binary, y_test_model3_predictions)\n",
    "accuracy_model3"
   ]
  },
  {
   "cell_type": "markdown",
   "id": "51464ec0",
   "metadata": {},
   "source": [
    "From the results above, it is clear that Model 3 has a higher accuracy than Model 2, by a relatively significant difference. Model 3 has an accuracy of approximately 89.2% and Model 2 has an accuracy of approximately 61%. Thus, Model 3 is more accurate than Model 2. This is likely as the binary model only has 2 options."
   ]
  },
  {
   "cell_type": "markdown",
   "id": "974df47c",
   "metadata": {},
   "source": [
    "\n",
    "\n",
    "- For Model 2,  compute additional evaluaton measures, namely confusion matrix, precision and recall.  "
   ]
  },
  {
   "cell_type": "code",
   "execution_count": 30,
   "id": "c064f3d6",
   "metadata": {},
   "outputs": [
    {
     "data": {
      "image/png": "[encoded data removed]",
      "text/plain": [
       "<Figure size 640x480 with 2 Axes>"
      ]
     },
     "metadata": {},
     "output_type": "display_data"
    }
   ],
   "source": [
    "from sklearn.metrics import classification_report\n",
    "from sklearn.metrics import ConfusionMatrixDisplay, confusion_matrix\n",
    "\n",
    "# confusion matrix\n",
    "cm = confusion_matrix(y_test, y_test_model2_predictions)\n",
    "display = ConfusionMatrixDisplay(confusion_matrix=cm, display_labels=model2.classes_)\n",
    "display.plot();"
   ]
  },
  {
   "cell_type": "markdown",
   "id": "a908a384",
   "metadata": {},
   "source": [
    "Let's interpret the confusion matrix and derieve some useful metrics:\n",
    "-> if we follow the rule of positive being ratings that are 4 or 5, and negative being under that.\n",
    "\n",
    "Model correctly identified 959 negative sentiment tweets as negative. (True Negative - TN)\n",
    "\n",
    "Model correctly identified 4395 positive sentiment tweets as positive. (True Positive - TP)\n",
    "\n",
    "Model incorrectly identified 104 positive sentiment tweets as negative. (False Negative - FN)\n",
    "\n",
    "Model incorrectly identified 690 negative sentiment tweets as positive. (False Positive - FP)"
   ]
  },
  {
   "cell_type": "markdown",
   "id": "9d1e4acd",
   "metadata": {},
   "source": [
    "Precision = TP/(TP+FP) = 4395/(4395+690) = 0.8643\n",
    "It means out of 100 times when model predicted positive sentiment, it was 86 times actually positive. This is pretty high"
   ]
  },
  {
   "cell_type": "code",
   "execution_count": 31,
   "id": "d296ac44",
   "metadata": {},
   "outputs": [
    {
     "data": {
      "text/plain": [
       "0.9768837519448766"
      ]
     },
     "execution_count": 31,
     "metadata": {},
     "output_type": "execute_result"
    }
   ],
   "source": [
    "recall = np.sum(4395 / (4395 + 104))\n",
    "recall"
   ]
  },
  {
   "cell_type": "markdown",
   "id": "ea6242d4",
   "metadata": {},
   "source": [
    "This displays a high recall score. It evaluates the ability of a model to correctly identify all relevant instances (positives) from the total number of relevant instances in a dataset. "
   ]
  },
  {
   "cell_type": "markdown",
   "id": "39c0632f",
   "metadata": {},
   "source": [
    "## Task 5: Model Analysis\n",
    "\n"
   ]
  },
  {
   "cell_type": "markdown",
   "id": "c3dd31d7",
   "metadata": {},
   "source": [
    "- Based on the confusion matrix obtained in the previous question (referring to Model 2, the Logistic Regression with TfIdf representation for rating prediction), identify and state the number of samples that were classified to have the rating of 5 (the highest rating), but in reality, they had an actual rating of 1 (the lowest rating)."
   ]
  },
  {
   "cell_type": "markdown",
   "id": "3e5fd638",
   "metadata": {},
   "source": [
    "24 samples were predicted to have a 5 star rating, but actually had a 1 star rating.\n"
   ]
  },
  {
   "cell_type": "markdown",
   "id": "1c867478",
   "metadata": {},
   "source": [
    "- Discuss the importance of considering alternative evaluation measures, such as precision and recall, instead of relying solely on accuracy. Based on this discussion, identify the most suitable evaluation metric for Model 2."
   ]
  },
  {
   "cell_type": "markdown",
   "id": "a496792b",
   "metadata": {},
   "source": [
    "Relying solely on accuracy to evaluate a model can be misleading. Especially when dealing with imbalanced datasets, where one class greatly outnumbers the other. Thus, alternative evaluation measures like precision and recall must be used as they provide further insights. Precision helps assess the accuracy of positive predictions, while recall is a ratio that measures the model's ability to find all positive cases. Moreover, they also consider the different types of prediction errors. Precision and recall provide a clearer picture. For Model 2, which predicts ratings, accuracy is a good thing to consider, but precision and recall should be considered as there are guaranteed to be prediction errors. The choice ultimately depends on the specific goals and consequences of the rating predictions."
   ]
  },
  {
   "cell_type": "markdown",
   "id": "ad234f27",
   "metadata": {},
   "source": [
    "\n",
    "- For binary sentiment prediction (Model 3), visualize important words with their model coefficients.  \n",
    "\n",
    "*Tip: you can reuse the function plot_coefficients from prac. session.*"
   ]
  },
  {
   "cell_type": "code",
   "execution_count": 32,
   "id": "373c09a2",
   "metadata": {},
   "outputs": [],
   "source": [
    "def plot_coefficients(classifier, feature_names):\n",
    "    coef = classifier.coef_.ravel()\n",
    "    sorted_coefficients = np.argsort(coef)\n",
    "    top_negative_coefficients = sorted_coefficients[:10]\n",
    "    top_positive_coefficients = sorted_coefficients[-10:]\n",
    "    top_coefficients = np.hstack([top_negative_coefficients, top_positive_coefficients])\n",
    "    top_words = feature_names[top_coefficients]\n",
    "    top_coefficient_values = coef[top_coefficients]\n",
    "    # Create plot\n",
    "    plt.figure(figsize=(15, 5))\n",
    "    colors = ['red' if c < 0 else 'blue' for c in top_coefficient_values]\n",
    "    plt.bar(np.arange(len(top_coefficients)), top_coefficient_values, color=colors)\n",
    "    plt.xticks(np.arange(len(top_coefficients)), top_words, rotation=90, ha='right')\n",
    "    plt.xlabel(\"Important Words\")\n",
    "    plt.ylabel(\"Model Coefficient\")\n",
    "    plt.title(\"Top 20 Important Words for Sentiment Prediction\")\n",
    "    plt.show()\n"
   ]
  },
  {
   "cell_type": "code",
   "execution_count": 33,
   "id": "30930f1d",
   "metadata": {},
   "outputs": [
    {
     "ename": "NameError",
     "evalue": "name 'feature_names' is not defined",
     "output_type": "error",
     "traceback": [
      "\u001b[0;31m---------------------------------------------------------------------------\u001b[0m",
      "\u001b[0;31mNameError\u001b[0m                                 Traceback (most recent call last)",
      "\u001b[0;32m/tmp/ipykernel_426317/2478608667.py\u001b[0m in \u001b[0;36m<cell line: 0>\u001b[0;34m()\u001b[0m\n\u001b[0;32m----> 1\u001b[0;31m \u001b[0mplot_coefficients\u001b[0m\u001b[0;34m(\u001b[0m\u001b[0mmodel3\u001b[0m\u001b[0;34m,\u001b[0m \u001b[0mfeature_names\u001b[0m\u001b[0;34m)\u001b[0m\u001b[0;34m\u001b[0m\u001b[0;34m\u001b[0m\u001b[0m\n\u001b[0m",
      "\u001b[0;31mNameError\u001b[0m: name 'feature_names' is not defined"
     ]
    }
   ],
   "source": [
    "plot_coefficients(model3, feature_names)"
   ]
  },
  {
   "cell_type": "markdown",
   "id": "bdba3353",
   "metadata": {},
   "source": [
    "From the plot above, we can see which words are the most common for both positive and negative sentiment reviews."
   ]
  },
  {
   "cell_type": "code",
   "execution_count": null,
   "id": "eb8e731d",
   "metadata": {},
   "outputs": [],
   "source": []
  }
 ],
 "metadata": {
  "kernelspec": {
   "display_name": "Python 3 (ipykernel)",
   "language": "python",
   "name": "python3"
  },
  "language_info": {
   "codemirror_mode": {
    "name": "ipython",
    "version": 3
   },
   "file_extension": ".py",
   "mimetype": "text/x-python",
   "name": "python",
   "nbconvert_exporter": "python",
   "pygments_lexer": "ipython3",
   "version": "3.11.4"
  }
 },
 "nbformat": 4,
 "nbformat_minor": 5
}
