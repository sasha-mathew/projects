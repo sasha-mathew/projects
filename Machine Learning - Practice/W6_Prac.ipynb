{
 "cells": [
  {
   "cell_type": "markdown",
   "id": "8a59992c-d6f3-4b2b-9a1a-3c63d110d7da",
   "metadata": {},
   "source": [
    "# Prac W5 - Performance"
   ]
  },
  {
   "cell_type": "code",
   "execution_count": 2,
   "id": "c8e0a183-ad74-41b9-9b73-2f564f43f704",
   "metadata": {},
   "outputs": [],
   "source": [
    "from sklearn.model_selection import train_test_split\n",
    "import pandas as pd"
   ]
  },
  {
   "cell_type": "markdown",
   "id": "ac7eea88-05d9-4a7e-8130-e77c06f22cf2",
   "metadata": {},
   "source": [
    "### Q1"
   ]
  },
  {
   "cell_type": "code",
   "execution_count": 5,
   "id": "3fa1008d-f338-4cdc-9e43-03e8a64713f1",
   "metadata": {},
   "outputs": [],
   "source": [
    "w3classif = pd.read_csv('w3classif.csv')"
   ]
  },
  {
   "cell_type": "code",
   "execution_count": 7,
   "id": "0e8a4ce8-5355-4c2c-b42d-894ff01d100b",
   "metadata": {},
   "outputs": [],
   "source": [
    "def create_train_test_data(w3classif, test_size=0.3):\n",
    "    # For storing data\n",
    "    trains, tests = [], []\n",
    "    \n",
    "    for i in range(10):\n",
    "        # TODO: Shuffle the dataset\n",
    "        shuffled_data = w3classif.sample(frac=1, random_state=i)\n",
    "        \n",
    "        # TODO: Split the dataset\n",
    "        train_data, test_data = train_test_split(shuffled_data, test_size=test_size, random_state=i)\n",
    "        \n",
    "        # Store data\n",
    "        trains.append(train_data)\n",
    "        tests.append(test_data)\n",
    "        \n",
    "    return trains, tests"
   ]
  },
  {
   "cell_type": "markdown",
   "id": "5f64a5c7-c15c-4342-a5ba-6cf4612f1209",
   "metadata": {},
   "source": [
    "### Q2"
   ]
  },
  {
   "cell_type": "code",
   "execution_count": 14,
   "id": "679b4e4c-d1fe-474d-b199-e64d09716ba1",
   "metadata": {},
   "outputs": [],
   "source": [
    "from sklearn.neighbors import KNeighborsClassifier\n",
    "from sklearn.metrics import accuracy_score\n",
    "import numpy as np\n",
    "\n",
    "def repeat_knn(w3classif, trials=10, test_size=0.3, n_neighbors=5):\n",
    "    # For storing\n",
    "    train_losses, test_losses = [], []\n",
    "    \n",
    "    # Create train and test datasets (calling the function you created previously)\n",
    "    trains, tests = create_train_test_data(w3classif, test_size)\n",
    "    \n",
    "    for i in range(trials):\n",
    "        # TODO: Split train data into features and target\n",
    "        X_train = trains[i].iloc[:, :-1]  # Assuming the target is the last column\n",
    "        y_train = trains[i].iloc[:, -1]\n",
    "        \n",
    "        # TODO: Split test data into features and target\n",
    "        X_test = tests[i].iloc[:, :-1]  # Assuming the target is the last column\n",
    "        y_test = tests[i].iloc[:, -1]\n",
    "        \n",
    "        # TODO: Initialize the k-NN classifier\n",
    "        knn = KNeighborsClassifier(n_neighbors=n_neighbors)\n",
    "        \n",
    "        # TODO: Train the classifier on the training data\n",
    "        knn.fit(X_train, y_train)\n",
    "        \n",
    "        # TODO: Make predictions on the training and test data\n",
    "        y_train_pred = knn.predict(X_train)\n",
    "        y_test_pred = knn.predict(X_test)\n",
    "        \n",
    "        # TODO: Calculate training and test accuracy\n",
    "        train_accuracy = accuracy_score(y_train, y_train_pred)\n",
    "        test_accuracy = accuracy_score(y_test, y_test_pred)\n",
    "        \n",
    "        # TODO: Calculate training and test loss (misclassification rate)\n",
    "        train_loss = 1 - train_accuracy\n",
    "        test_loss = 1 - test_accuracy\n",
    "        \n",
    "        # TODO: Store train and test losses\n",
    "        train_losses.append(train_loss)\n",
    "        test_losses.append(test_loss)\n",
    "    \n",
    "    return train_losses, test_losses"
   ]
  },
  {
   "cell_type": "code",
   "execution_count": 16,
   "id": "cca35457-2203-427a-961c-c81bd25df3be",
   "metadata": {},
   "outputs": [
    {
     "name": "stdout",
     "output_type": "stream",
     "text": [
      "Avg Training Loss (Misclassification Rate): 3.30%\n",
      "Avg Test Loss (Misclassification Rate): 5.25%\n"
     ]
    }
   ],
   "source": [
    "train_losses, test_losses = repeat_knn(w3classif, trials=10, test_size=0.3)\n",
    "print(f'Avg Training Loss (Misclassification Rate): {np.array(train_losses).mean() * 100:.2f}%')\n",
    "print(f'Avg Test Loss (Misclassification Rate): {np.array(test_losses).mean() * 100:.2f}%')"
   ]
  },
  {
   "cell_type": "markdown",
   "id": "a3914bb2-362e-48cd-9172-02c79bf06987",
   "metadata": {},
   "source": [
    "### Q3"
   ]
  },
  {
   "cell_type": "code",
   "execution_count": 18,
   "id": "ff56683c-2906-4f14-8a7d-7184ade2bd5e",
   "metadata": {},
   "outputs": [
    {
     "name": "stdout",
     "output_type": "stream",
     "text": [
      "\n",
      "Test size: 0.1\n",
      "Avg Training Loss (Misclassification Rate): 3.09%\n",
      "Avg Test Loss (Misclassification Rate): 5.25%\n",
      "\n",
      "Test size: 0.2\n",
      "Avg Training Loss (Misclassification Rate): 3.13%\n",
      "Avg Test Loss (Misclassification Rate): 5.00%\n",
      "\n",
      "Test size: 0.3\n",
      "Avg Training Loss (Misclassification Rate): 3.30%\n",
      "Avg Test Loss (Misclassification Rate): 5.25%\n",
      "\n",
      "Test size: 0.4\n",
      "Avg Training Loss (Misclassification Rate): 3.26%\n",
      "Avg Test Loss (Misclassification Rate): 5.12%\n",
      "\n",
      "Test size: 0.5\n",
      "Avg Training Loss (Misclassification Rate): 3.32%\n",
      "Avg Test Loss (Misclassification Rate): 4.65%\n"
     ]
    }
   ],
   "source": [
    "test_sizes = [0.1, 0.2, 0.3, 0.4, 0.5]\n",
    "\n",
    "for ts in test_sizes:\n",
    "    # TODO: Repeat Q1 and Q2 and print the average loss for 10 trials for each test set size\n",
    "    trains, tests = create_train_test_data(w3classif, test_size=ts)\n",
    "    train_losses, test_losses = repeat_knn(w3classif, trials=10, test_size=ts)\n",
    "    \n",
    "    print(f\"\\nTest size: {ts}\")\n",
    "    print(f'Avg Training Loss (Misclassification Rate): {np.array(train_losses).mean() * 100:.2f}%')\n",
    "    print(f'Avg Test Loss (Misclassification Rate): {np.array(test_losses).mean() * 100:.2f}%')"
   ]
  },
  {
   "cell_type": "markdown",
   "id": "6d36a9e0-0e3d-43a8-963b-f04da806a830",
   "metadata": {},
   "source": [
    "### Q4"
   ]
  },
  {
   "cell_type": "code",
   "execution_count": 22,
   "id": "4d6a87da-a9b0-4bd3-9e59-398ae026b511",
   "metadata": {},
   "outputs": [
    {
     "name": "stdout",
     "output_type": "stream",
     "text": [
      "\n",
      "Test size: 0.1\n",
      "Avg Training Loss: 3.09% ± 0.36%\n",
      "Avg Test Loss: 5.25% ± 2.36%\n",
      "\n",
      "Test size: 0.2\n",
      "Avg Training Loss: 3.13% ± 0.40%\n",
      "Avg Test Loss: 5.00% ± 1.37%\n",
      "\n",
      "Test size: 0.3\n",
      "Avg Training Loss: 3.30% ± 0.78%\n",
      "Avg Test Loss: 5.25% ± 1.83%\n",
      "\n",
      "Test size: 0.4\n",
      "Avg Training Loss: 3.26% ± 0.81%\n",
      "Avg Test Loss: 5.12% ± 1.04%\n",
      "\n",
      "Test size: 0.5\n",
      "Avg Training Loss: 3.32% ± 0.85%\n",
      "Avg Test Loss: 4.65% ± 0.67%\n"
     ]
    }
   ],
   "source": [
    "test_sizes = [0.1, 0.2, 0.3, 0.4, 0.5]\n",
    "\n",
    "for ts in test_sizes:\n",
    "    # TODO: Calculate the sample standard deviation of your training and test set error values over the 10 trials from Q2 and Q3\n",
    "    trains, tests = create_train_test_data(w3classif, test_size=ts)\n",
    "    train_losses, test_losses = repeat_knn(w3classif, trials=10, test_size=ts)\n",
    "    \n",
    "    # Calculate mean losses\n",
    "    mean_train_loss = np.array(train_losses).mean() * 100\n",
    "    mean_test_loss = np.array(test_losses).mean() * 100\n",
    "    \n",
    "    # Calculate standard deviations\n",
    "    std_train_loss = np.array(train_losses).std() * 100\n",
    "    std_test_loss = np.array(test_losses).std() * 100\n",
    "    \n",
    "    print(f\"\\nTest size: {ts}\")\n",
    "    print(f'Avg Training Loss: {mean_train_loss:.2f}% ± {std_train_loss:.2f}%')\n",
    "    print(f'Avg Test Loss: {mean_test_loss:.2f}% ± {std_test_loss:.2f}%')"
   ]
  },
  {
   "cell_type": "markdown",
   "id": "da94fb52-8fda-4c41-8445-cd9dd2f79942",
   "metadata": {},
   "source": [
    "### Q5"
   ]
  },
  {
   "cell_type": "code",
   "execution_count": 24,
   "id": "d572fefa-526c-43a4-a0e0-30957f2d98ab",
   "metadata": {},
   "outputs": [
    {
     "name": "stdout",
     "output_type": "stream",
     "text": [
      "Cross-Validation Error: 4.26% ± 2.51%\n",
      "Individual fold errors: ['7.50%', '2.50%', '7.50%', '2.50%', '2.50%', '5.00%', '7.50%', '0.00%', '5.00%', '2.56%']\n"
     ]
    }
   ],
   "source": [
    "from sklearn.model_selection import cross_val_score\n",
    "\n",
    "# TODO: Shuffle the original dataset\n",
    "shuffled_data = w3classif.sample(frac=1, random_state=42)\n",
    "\n",
    "# TODO: Split the dataset into features and target\n",
    "X = shuffled_data.iloc[:, :-1]  # Assuming target is in the last column\n",
    "y = shuffled_data.iloc[:, -1]\n",
    "\n",
    "# TODO: Initialize the k-NN classifier\n",
    "knn = KNeighborsClassifier(n_neighbors=5)\n",
    "\n",
    "# TODO: Define the number of folds for cross-validation\n",
    "num_folds = 10\n",
    "\n",
    "# TODO: Perform cross-validation\n",
    "cv_scores = cross_val_score(knn, X, y, cv=num_folds)\n",
    "\n",
    "# TODO: Calculate mean and standard deviation of cross-validation error\n",
    "cv_errors = 1 - cv_scores\n",
    "mean_cv_error = cv_errors.mean() * 100\n",
    "std_cv_error = cv_errors.std() * 100\n",
    "\n",
    "# TODO: Print the errors\n",
    "print(f'Cross-Validation Error: {mean_cv_error:.2f}% ± {std_cv_error:.2f}%')\n",
    "print(f'Individual fold errors: {[f\"{err*100:.2f}%\" for err in cv_errors]}')"
   ]
  },
  {
   "cell_type": "code",
   "execution_count": null,
   "id": "0f1e6e55-533b-4cad-9765-f0daa54180c7",
   "metadata": {},
   "outputs": [],
   "source": []
  }
 ],
 "metadata": {
  "kernelspec": {
   "display_name": "Python [conda env:base] *",
   "language": "python",
   "name": "conda-base-py"
  },
  "language_info": {
   "codemirror_mode": {
    "name": "ipython",
    "version": 3
   },
   "file_extension": ".py",
   "mimetype": "text/x-python",
   "name": "python",
   "nbconvert_exporter": "python",
   "pygments_lexer": "ipython3",
   "version": "3.12.7"
  }
 },
 "nbformat": 4,
 "nbformat_minor": 5
}
